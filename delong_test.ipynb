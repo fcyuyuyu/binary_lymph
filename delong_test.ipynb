{
 "cells": [
  {
   "cell_type": "markdown",
   "id": "55a739e9-53ec-45fb-8037-c33932fb76b5",
   "metadata": {},
   "source": [
    "## Delong Test for Any Pair of Models \n",
    "\n",
    "For all models, we train them with training data and test them with validation data. \n",
    "\n",
    "In this notebook, we need to conduct delong test to obtain all p values for any pair of models."
   ]
  },
  {
   "cell_type": "code",
   "execution_count": 1,
   "id": "b25308f1-2e18-49e5-8f75-d90b0c288123",
   "metadata": {},
   "outputs": [],
   "source": [
    "import os \n",
    "import numpy as np \n",
    "import pandas as pd \n",
    "\n",
    "def get_data( csv_file ):\n",
    "    data = pd.read_csv( csv_file ) \n",
    "    vars = data.columns\n",
    "    xs, ys = data[ vars[2:-1] ], data[ [vars[-1]] ]\n",
    "    return xs, ys \n",
    "\n",
    "train_x, train_y = get_data( \"train.csv\" )\n",
    "val_x, val_y = get_data( \"val.csv\" )\n",
    "train_y, val_y = np.array(train_y).reshape(-1), np.array(val_y).reshape(-1)"
   ]
  },
  {
   "cell_type": "code",
   "execution_count": 2,
   "id": "98847008-72ef-4179-9a76-23e9bc19bd29",
   "metadata": {},
   "outputs": [
    {
     "name": "stdout",
     "output_type": "stream",
     "text": [
      "153 (153, 13)\n"
     ]
    }
   ],
   "source": [
    "from sklearn import tree\n",
    "from sklearn.linear_model import LogisticRegression\n",
    "from sklearn.ensemble import RandomForestClassifier\n",
    "from sklearn.neighbors import KNeighborsClassifier\n",
    "from sklearn.svm import SVC\n",
    "from lightgbm import LGBMClassifier\n",
    "from xgboost import XGBClassifier\n",
    "import matplotlib.pyplot as plt\n",
    "from sklearn.metrics import classification_report\n",
    "from sklearn.model_selection import StratifiedKFold\n",
    "from sklearn.metrics import accuracy_score, precision_score, recall_score, f1_score, roc_auc_score, confusion_matrix\n",
    "from sklearn.metrics import ConfusionMatrixDisplay \n",
    "import sklearn.metrics as metrics\n",
    "\n",
    "# modify the RGB values for each model\n",
    "model_list = [ \"LogisticRegression\", \"RandomForest\", \"Xgboost\", \"Lightgbm\", \"DecisionTree\", \"SVM\", \"KNN\" ] \n",
    "\n",
    "preds = [  ]\n",
    "\n",
    "lr = LogisticRegression( penalty='l2', C=0.12, solver='newton-cg', max_iter=100 )\n",
    "lr.fit( train_x, train_y )\n",
    "preds.append( lr.predict(val_x) )\n",
    "\n",
    "rf = RandomForestClassifier( criterion='log_loss', n_estimators=280, max_features='log2', max_depth=6 )\n",
    "rf.fit( train_x, train_y )\n",
    "preds.append( rf.predict(val_x) )\n",
    "\n",
    "xgb = XGBClassifier( eta=0.7, max_depth=7, min_child_weight=3 )\n",
    "xgb.fit( train_x, train_y )\n",
    "preds.append( xgb.predict(val_x) )\n",
    "\n",
    "lgb = LGBMClassifier(n_estimators=500, verbose=-1)\n",
    "lgb.fit( train_x, train_y )\n",
    "preds.append( lgb.predict(val_x) )\n",
    "\n",
    "dt = tree.DecisionTreeClassifier()\n",
    "dt.fit( train_x, train_y )\n",
    "preds.append( dt.predict(val_x) )\n",
    "\n",
    "knn = KNeighborsClassifier( 5 )\n",
    "knn.fit( train_x.values, train_y )\n",
    "print(val_x.shape[0], val_x.shape)\n",
    "test_samples = [ val_x.iloc[i] for i in range( val_x.values.shape[0] ) ]\n",
    "preds.append( knn.predict(test_samples) )\n",
    "\n",
    "svm = SVC( probability=True )\n",
    "svm.fit( train_x, train_y )\n",
    "preds.append( svm.predict(val_x) )  \n"
   ]
  },
  {
   "cell_type": "markdown",
   "id": "b9a608b6-3119-4346-8723-15198246115f",
   "metadata": {},
   "source": [
    "### Delong Test"
   ]
  },
  {
   "cell_type": "code",
   "execution_count": 3,
   "id": "6ad2fd94-fb29-4edd-8cf8-dc7f262bdd0c",
   "metadata": {},
   "outputs": [],
   "source": [
    "# import dependency \n",
    "import pandas as pd\n",
    "import numpy as np\n",
    "import scipy.stats\n",
    "from sklearn.linear_model import LogisticRegression\n",
    "from sklearn.ensemble import RandomForestClassifier\n",
    "import warnings\n",
    "warnings.filterwarnings(\"ignore\")"
   ]
  },
  {
   "cell_type": "code",
   "execution_count": 4,
   "id": "7d86891a-de44-4453-bdbb-356af03a7e24",
   "metadata": {},
   "outputs": [],
   "source": [
    "# refer: https://github.com/yandexdataschool/roc_comparison/blob/master/compare_auc_delong_xu.py\n",
    "def compute_midrank(x):\n",
    "    J = np.argsort(x)\n",
    "    Z = x[J]\n",
    "    N = len(x)\n",
    "    T = np.zeros(N)\n",
    "    i = 0\n",
    "    while i < N:\n",
    "        j = i\n",
    "        while j < N and Z[j] == Z[i]:\n",
    "            j += 1\n",
    "        T[i:j] = 0.5*(i + j - 1)\n",
    "        i = j\n",
    "    T2 = np.empty(N)\n",
    "    T2[J] = T + 1\n",
    "    return T2\n",
    "\n",
    "def fastDeLong(predictions_sorted_transposed, label_1_count):\n",
    "\n",
    "    # Short variables are named as they are in the paper\n",
    "    m = label_1_count\n",
    "    n = predictions_sorted_transposed.shape[1] - m\n",
    "    positive_examples = predictions_sorted_transposed[:, :m]\n",
    "    negative_examples = predictions_sorted_transposed[:, m:]\n",
    "    k = predictions_sorted_transposed.shape[0]\n",
    "\n",
    "    tx = np.empty([k, m], dtype=np.float64)\n",
    "    ty = np.empty([k, n], dtype=np.float64)\n",
    "    tz = np.empty([k, m + n], dtype=np.float64)\n",
    "    for r in range(k):\n",
    "        tx[r, :] = compute_midrank(positive_examples[r, :])\n",
    "        ty[r, :] = compute_midrank(negative_examples[r, :])\n",
    "        tz[r, :] = compute_midrank(predictions_sorted_transposed[r, :])\n",
    "    aucs = tz[:, :m].sum(axis=1) / m / n - float(m + 1.0) / 2.0 / n\n",
    "    v01 = (tz[:, :m] - tx[:, :]) / n\n",
    "    v10 = 1.0 - (tz[:, m:] - ty[:, :]) / m\n",
    "    sx = np.cov(v01)\n",
    "    sy = np.cov(v10)\n",
    "    delongcov = sx / m + sy / n\n",
    "    return aucs, delongcov\n",
    "\n",
    "def calc_pvalue(aucs, sigma):\n",
    "    \"\"\"\n",
    "    Args:\n",
    "       aucs: 1D array of AUCs\n",
    "       sigma: AUC DeLong covariances\n",
    "    Returns:\n",
    "       pvalue\n",
    "    \"\"\"\n",
    "    l = np.array([[1, -1]])\n",
    "    z = np.abs(np.diff(aucs)) / np.sqrt(np.dot(np.dot(l, sigma), l.T))\n",
    "    log10_p = np.log10(2) + scipy.stats.norm.logsf(z, loc=0, scale=1) / np.log(10)  # Computes log(10) of p-values\n",
    "    return 10 ** log10_p\n",
    "\n",
    "\n",
    "def compute_ground_truth_statistics(ground_truth):\n",
    "    assert np.array_equal(np.unique(ground_truth), [0, 1])\n",
    "    order = (-ground_truth).argsort()\n",
    "    label_1_count = int(ground_truth.sum())\n",
    "    return order, label_1_count\n",
    "\n",
    "def delong_roc_test(ground_truth, predictions_one, predictions_two):\n",
    "    \"\"\"\n",
    "    Computes log(p-value) for hypothesis that two ROC AUCs are different\n",
    "    Args:\n",
    "       ground_truth: np.array of 0 and 1\n",
    "       predictions_one: predictions of the first model,\n",
    "          np.array of floats of the probability of being class 1\n",
    "       predictions_two: predictions of the second model,\n",
    "          np.array of floats of the probability of being class 1\n",
    "    \"\"\"\n",
    "    order, label_1_count = compute_ground_truth_statistics(ground_truth)\n",
    "    predictions_sorted_transposed = np.vstack((predictions_one, predictions_two))[:, order]\n",
    "    aucs, delongcov = fastDeLong(predictions_sorted_transposed, label_1_count)\n",
    "    return calc_pvalue(aucs, delongcov)\n",
    "\n"
   ]
  },
  {
   "cell_type": "code",
   "execution_count": 5,
   "id": "8de50133-8e6d-4077-94ed-7070f9e575c0",
   "metadata": {},
   "outputs": [
    {
     "name": "stdout",
     "output_type": "stream",
     "text": [
      "[nan, 0.6524262011194353, 0.7707649051314713, 0.15680411310894973, 0.0043456178559930555, 0.003857273999549423, 6.0646093375179925e-05]\n",
      "[0.6524262011194353, nan, 1.0000000000000002, 0.20000529271911419, 0.012765672393029472, 0.008315173053598057, 0.0005066676975067232]\n",
      "[0.7707649051314713, 1.0000000000000002, nan, 0.15192166648359082, 0.003855418017806997, 0.01192524506603446, 0.0021891005846535966]\n",
      "[0.15680411310894973, 0.20000529271911419, 0.15192166648359082, nan, 0.08256885207503911, 0.09392648502789555, 0.02929207672441371]\n",
      "[0.0043456178559930555, 0.012765672393029472, 0.003855418017806997, 0.08256885207503911, nan, 0.7036536324246176, 0.3507440163485974]\n",
      "[0.003857273999549423, 0.008315173053598057, 0.01192524506603446, 0.09392648502789555, 0.7036536324246176, nan, 0.5799430268678155]\n",
      "[6.0646093375179925e-05, 0.0005066676975067232, 0.0021891005846535966, 0.02929207672441371, 0.3507440163485974, 0.5799430268678155, nan]\n"
     ]
    }
   ],
   "source": [
    "res_table = dict()\n",
    "leng = len(preds)\n",
    "for i in range( leng ):\n",
    "    ps = []\n",
    "    for j in range( leng ):\n",
    "        ps.append( delong_roc_test( val_y, preds[i], preds[j] )[0,0] )\n",
    "    res_table[ model_list[i] ] = ps \n",
    "    print(ps) \n",
    "\n",
    "df = pd.DataFrame( data = res_table ) \n",
    "df.rename( index={ i:model_list[i] for i in range(leng) }, inplace=True ) \n",
    "df.to_csv( \"delong_test.csv\" )\n"
   ]
  },
  {
   "cell_type": "markdown",
   "id": "26c1890e-d57d-49ab-9637-b07c3c42a157",
   "metadata": {},
   "source": [
    "#### a simple visualization p table"
   ]
  },
  {
   "cell_type": "code",
   "execution_count": 6,
   "id": "3099bc3a-b3b2-4144-b26e-2d1ce79b5f19",
   "metadata": {},
   "outputs": [
    {
     "data": {
      "text/plain": [
       "Text(0.5, 0, 'LR    RF    Xgb    Lgb    DT    SVM    KNN')"
      ]
     },
     "execution_count": 6,
     "metadata": {},
     "output_type": "execute_result"
    },
    {
     "data": {
      "image/png": "[encoded data removed]",
      "text/plain": [
       "<Figure size 800x600 with 2 Axes>"
      ]
     },
     "metadata": {},
     "output_type": "display_data"
    }
   ],
   "source": [
    "import matplotlib.pyplot as plt \n",
    "\n",
    "fig, ax = plt.subplots( 1,1, figsize=(8,6) )\n",
    "tmp = ax.pcolormesh( df, cmap = \"viridis\", vmin=0, vmax=1 )\n",
    "fig.colorbar( tmp, ax=ax )\n",
    "ax.set_xlabel( \"    \".join([ \"LR\", \"RF\", \"Xgb\", \"Lgb\", \"DT\", \"SVM\", \"KNN\" ]) ) "
   ]
  },
  {
   "cell_type": "code",
   "execution_count": null,
   "id": "7f5a9fe0-67d7-4125-a398-e35d522e5f33",
   "metadata": {},
   "outputs": [],
   "source": []
  },
  {
   "cell_type": "code",
   "execution_count": null,
   "id": "541093be-9b07-4069-b1c6-adac0c99dd9e",
   "metadata": {},
   "outputs": [],
   "source": []
  }
 ],
 "metadata": {
  "kernelspec": {
   "display_name": "Python 3 (ipykernel)",
   "language": "python",
   "name": "python3"
  },
  "language_info": {
   "codemirror_mode": {
    "name": "ipython",
    "version": 3
   },
   "file_extension": ".py",
   "mimetype": "text/x-python",
   "name": "python",
   "nbconvert_exporter": "python",
   "pygments_lexer": "ipython3",
   "version": "3.11.5"
  }
 },
 "nbformat": 4,
 "nbformat_minor": 5
}
